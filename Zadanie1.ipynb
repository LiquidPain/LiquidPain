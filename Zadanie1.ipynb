{
  "nbformat": 4,
  "nbformat_minor": 0,
  "metadata": {
    "colab": {
      "name": "Untitled0.ipynb",
      "provenance": [],
      "authorship_tag": "ABX9TyPQAWNOU90JuBnmgwoxw5Qw",
      "include_colab_link": true
    },
    "kernelspec": {
      "name": "python3",
      "display_name": "Python 3"
    },
    "language_info": {
      "name": "python"
    }
  },
  "cells": [
    {
      "cell_type": "markdown",
      "metadata": {
        "id": "view-in-github",
        "colab_type": "text"
      },
      "source": [
        "<a href=\"https://colab.research.google.com/github/LiquidPain/LiquidPain/blob/main/Zadanie1.ipynb\" target=\"_parent\"><img src=\"https://colab.research.google.com/assets/colab-badge.svg\" alt=\"Open In Colab\"/></a>"
      ]
    },
    {
      "cell_type": "code",
      "execution_count": 94,
      "metadata": {
        "colab": {
          "base_uri": "https://localhost:8080/"
        },
        "id": "gIMCn2TwWKUi",
        "outputId": "3e84118a-d877-469c-9ae1-e8e7f4889105"
      },
      "outputs": [
        {
          "output_type": "stream",
          "name": "stdout",
          "text": [
            "   _~_      _~_      _~_      _~_      _~_   \n",
            "  (o o)    (o o)    (o o)    (o o)    (o o)  \n",
            "  / V \\    / V \\    / V \\    / V \\    / V \\  \n",
            " /( _ )\\  /( _ )\\  /( _ )\\  /( _ )\\  /( _ )\\ \n",
            "  ^^ ^^    ^^ ^^    ^^ ^^    ^^ ^^    ^^ ^^  \n"
          ]
        }
      ],
      "source": [
        "import random\n",
        "N = random.randint (1,9)\n",
        "A = \"   _~_   \"     \n",
        "B = \"  (o o)  \"\n",
        "C = '  / V \\  '\n",
        "D = \" /( _ )\\ \"\n",
        "F = \"  ^^ ^^  \"\n",
        "print (A * N)\n",
        "print (B * N)\n",
        "print (C * N)\n",
        "print (D * N)\n",
        "print (F * N)"
      ]
    },
    {
      "cell_type": "code",
      "source": [
        "Z = int(input( \" Введите число людей \" ))\n",
        "V = int(input( \" Введите количество яблок \" ))\n",
        "print ( V // Z , \" Сколько яблок досталось каждому \" )\n",
        "print ( V % Z  , \" Остаток в корзине \" )"
      ],
      "metadata": {
        "colab": {
          "base_uri": "https://localhost:8080/"
        },
        "id": "vViitbuQb5kR",
        "outputId": "a6951c5d-d5ff-4402-b57a-1ced509b6641"
      },
      "execution_count": 95,
      "outputs": [
        {
          "output_type": "stream",
          "name": "stdout",
          "text": [
            " Введите число людей 1337\n",
            " Введите количество яблок 420\n",
            "0  Сколько яблок досталось каждому \n",
            "420  Остаток в корзине \n"
          ]
        }
      ]
    },
    {
      "cell_type": "code",
      "source": [
        "n = input(\"Введите трехзначное число: \")\n",
        "n = int(n)\n",
        " \n",
        "d1 = n % 10\n",
        "n = n // 10\n",
        "d2 = n % 10\n",
        "n = n // 10\n",
        "\n",
        "print( \"Сумма цифр числа:\", n + d1 + d2)\n"
      ],
      "metadata": {
        "colab": {
          "base_uri": "https://localhost:8080/"
        },
        "id": "FvGR7acgjmba",
        "outputId": "65026614-1642-4d5f-e716-0df526ea812f"
      },
      "execution_count": 96,
      "outputs": [
        {
          "output_type": "stream",
          "name": "stdout",
          "text": [
            "Введите трехзначное число: 24258\n",
            "Сумма цифр числа: 255\n"
          ]
        }
      ]
    },
    {
      "cell_type": "code",
      "source": [
        "time = int(input(\"Введите целое число \"))\n",
        "seconds = time % 60\n",
        "minutes = time // 60 % 60\n",
        "hours = time // 60 // 60\n",
        "while hours / 24 >= 1:\n",
        "  hours = hours - 24\n",
        "array = [hours, minutes, seconds]\n",
        "for i in range(1, 3):\n",
        "    if array[i] < 10:\n",
        "        array[i] = '0' + str(array[i])\n",
        "result = \"{}:{}:{}\".format(array[0],array[1],array[2],)\n",
        "print(result)\n"
      ],
      "metadata": {
        "colab": {
          "base_uri": "https://localhost:8080/"
        },
        "id": "oDOYseaU06Cm",
        "outputId": "3ef564b8-1aeb-4679-de9b-7bcf0701cc90"
      },
      "execution_count": 98,
      "outputs": [
        {
          "output_type": "stream",
          "name": "stdout",
          "text": [
            "Введите целое число 5235327657823\n",
            "2:43:43\n"
          ]
        }
      ]
    },
    {
      "cell_type": "code",
      "source": [
        ""
      ],
      "metadata": {
        "id": "4j7GMbqh_yiq"
      },
      "execution_count": null,
      "outputs": []
    },
    {
      "cell_type": "markdown",
      "source": [
        ""
      ],
      "metadata": {
        "id": "PQ3su-FHl0uK"
      }
    }
  ]
}